{
  "nbformat": 4,
  "nbformat_minor": 0,
  "metadata": {
    "colab": {
      "provenance": [],
      "gpuType": "T4"
    },
    "kernelspec": {
      "name": "python3",
      "display_name": "Python 3"
    },
    "language_info": {
      "name": "python"
    },
    "accelerator": "GPU"
  },
  "cells": [
    {
      "cell_type": "code",
      "execution_count": null,
      "metadata": {
        "id": "6ufaSrqIPE4-"
      },
      "outputs": [],
      "source": [
        "\n",
        "import numpy as np\n",
        "import matplotlib.pyplot as plt\n",
        "import pandas as pd\n",
        "import tensorflow as tf\n",
        "from tensorflow.keras.models import Sequential\n",
        "from tensorflow.keras.layers import Dense\n",
        "from tensorflow.keras.layers import LSTM\n",
        "from sklearn.preprocessing import MinMaxScaler\n",
        "from sklearn.metrics import mean_squared_error"
      ]
    },
    {
      "cell_type": "code",
      "source": [
        "# fix random seed for reproducibility\n",
        "tf.random.set_seed(7)"
      ],
      "metadata": {
        "id": "fbN3aZ5vPbUV"
      },
      "execution_count": null,
      "outputs": []
    },
    {
      "cell_type": "code",
      "source": [
        "\n",
        "# load the dataset\n",
        "dataframe = pd.read_csv('airline-passengers.csv', usecols=[1])\n",
        "dataset = dataframe.values\n",
        "dataset = dataset.astype('float32')"
      ],
      "metadata": {
        "id": "3JNUmoQyPbXS"
      },
      "execution_count": null,
      "outputs": []
    },
    {
      "cell_type": "code",
      "source": [
        "\n",
        "# normalize the dataset\n",
        "scaler = MinMaxScaler(feature_range=(0, 1))\n",
        "dataset = scaler.fit_transform(dataset)"
      ],
      "metadata": {
        "id": "41OiDiJmPbaC"
      },
      "execution_count": null,
      "outputs": []
    },
    {
      "cell_type": "code",
      "source": [
        "# split into train and test sets\n",
        "train_size = int(len(dataset) * 0.67)\n",
        "test_size = len(dataset) - train_size\n",
        "train, test = dataset[0:train_size,:], dataset[train_size:len(dataset),:]\n",
        "print(len(train), len(test))"
      ],
      "metadata": {
        "colab": {
          "base_uri": "https://localhost:8080/"
        },
        "id": "qoQNQsHPPbdK",
        "outputId": "4f5dead1-ee38-414a-ad6f-0b4f920e8e5b"
      },
      "execution_count": null,
      "outputs": [
        {
          "output_type": "stream",
          "name": "stdout",
          "text": [
            "96 48\n"
          ]
        }
      ]
    },
    {
      "cell_type": "code",
      "source": [
        "# convert an array of values into a dataset matrix\n",
        "def create_dataset(dataset, look_back=1):\n",
        " dataX, dataY = [], []\n",
        " for i in range(len(dataset)-look_back-1):\n",
        "   a = dataset[i:(i+look_back), 0]\n",
        " dataX.append(a)\n",
        " dataY.append(dataset[i + look_back, 0])\n",
        " return np.array(dataX), np.array(dataY)"
      ],
      "metadata": {
        "id": "h74Rlj3_PbgG"
      },
      "execution_count": null,
      "outputs": []
    },
    {
      "cell_type": "code",
      "source": [
        "\n",
        "# reshape into X=t and Y=t+1\n",
        "look_back = 1\n",
        "trainX, trainY = create_dataset(train, look_back)\n",
        "testX, testY = create_dataset(test, look_back)"
      ],
      "metadata": {
        "id": "uObebgt_PbjS"
      },
      "execution_count": null,
      "outputs": []
    },
    {
      "cell_type": "code",
      "source": [
        "\n",
        "# reshape input to be [samples, time steps, features]\n",
        "trainX = np.reshape(trainX, (trainX.shape[0], 1, trainX.shape[1]))\n",
        "testX = np.reshape(testX, (testX.shape[0], 1, testX.shape[1]))"
      ],
      "metadata": {
        "id": "sA6WxdWPPbmU"
      },
      "execution_count": null,
      "outputs": []
    },
    {
      "cell_type": "code",
      "source": [
        "\n",
        "# create and fit the LSTM network\n",
        "model = Sequential()\n",
        "model.add(LSTM(4, input_shape=(1, look_back)))\n",
        "model.add(Dense(1))\n",
        "model.compile(loss='mean_squared_error', optimizer='adam')\n",
        "model.fit(trainX, trainY, epochs=100, batch_size=1, verbose=2)"
      ],
      "metadata": {
        "colab": {
          "base_uri": "https://localhost:8080/"
        },
        "id": "Fs06NFylPbpJ",
        "outputId": "b1d1fcdf-d27d-455e-c6c3-773f85770a04"
      },
      "execution_count": null,
      "outputs": [
        {
          "output_type": "stream",
          "name": "stdout",
          "text": [
            "Epoch 1/100\n",
            "1/1 - 3s - loss: 0.0781 - 3s/epoch - 3s/step\n",
            "Epoch 2/100\n",
            "1/1 - 0s - loss: 0.0771 - 9ms/epoch - 9ms/step\n",
            "Epoch 3/100\n",
            "1/1 - 0s - loss: 0.0761 - 10ms/epoch - 10ms/step\n",
            "Epoch 4/100\n",
            "1/1 - 0s - loss: 0.0751 - 9ms/epoch - 9ms/step\n",
            "Epoch 5/100\n",
            "1/1 - 0s - loss: 0.0741 - 11ms/epoch - 11ms/step\n",
            "Epoch 6/100\n",
            "1/1 - 0s - loss: 0.0731 - 11ms/epoch - 11ms/step\n",
            "Epoch 7/100\n",
            "1/1 - 0s - loss: 0.0722 - 9ms/epoch - 9ms/step\n",
            "Epoch 8/100\n",
            "1/1 - 0s - loss: 0.0712 - 13ms/epoch - 13ms/step\n",
            "Epoch 9/100\n",
            "1/1 - 0s - loss: 0.0702 - 10ms/epoch - 10ms/step\n",
            "Epoch 10/100\n",
            "1/1 - 0s - loss: 0.0693 - 8ms/epoch - 8ms/step\n",
            "Epoch 11/100\n",
            "1/1 - 0s - loss: 0.0683 - 7ms/epoch - 7ms/step\n",
            "Epoch 12/100\n",
            "1/1 - 0s - loss: 0.0674 - 8ms/epoch - 8ms/step\n",
            "Epoch 13/100\n",
            "1/1 - 0s - loss: 0.0665 - 8ms/epoch - 8ms/step\n",
            "Epoch 14/100\n",
            "1/1 - 0s - loss: 0.0655 - 8ms/epoch - 8ms/step\n",
            "Epoch 15/100\n",
            "1/1 - 0s - loss: 0.0646 - 8ms/epoch - 8ms/step\n",
            "Epoch 16/100\n",
            "1/1 - 0s - loss: 0.0637 - 8ms/epoch - 8ms/step\n",
            "Epoch 17/100\n",
            "1/1 - 0s - loss: 0.0628 - 8ms/epoch - 8ms/step\n",
            "Epoch 18/100\n",
            "1/1 - 0s - loss: 0.0619 - 8ms/epoch - 8ms/step\n",
            "Epoch 19/100\n",
            "1/1 - 0s - loss: 0.0610 - 7ms/epoch - 7ms/step\n",
            "Epoch 20/100\n",
            "1/1 - 0s - loss: 0.0601 - 8ms/epoch - 8ms/step\n",
            "Epoch 21/100\n",
            "1/1 - 0s - loss: 0.0592 - 7ms/epoch - 7ms/step\n",
            "Epoch 22/100\n",
            "1/1 - 0s - loss: 0.0583 - 7ms/epoch - 7ms/step\n",
            "Epoch 23/100\n",
            "1/1 - 0s - loss: 0.0575 - 7ms/epoch - 7ms/step\n",
            "Epoch 24/100\n",
            "1/1 - 0s - loss: 0.0566 - 9ms/epoch - 9ms/step\n",
            "Epoch 25/100\n",
            "1/1 - 0s - loss: 0.0557 - 8ms/epoch - 8ms/step\n",
            "Epoch 26/100\n",
            "1/1 - 0s - loss: 0.0549 - 12ms/epoch - 12ms/step\n",
            "Epoch 27/100\n",
            "1/1 - 0s - loss: 0.0540 - 13ms/epoch - 13ms/step\n",
            "Epoch 28/100\n",
            "1/1 - 0s - loss: 0.0532 - 8ms/epoch - 8ms/step\n",
            "Epoch 29/100\n",
            "1/1 - 0s - loss: 0.0524 - 7ms/epoch - 7ms/step\n",
            "Epoch 30/100\n",
            "1/1 - 0s - loss: 0.0515 - 7ms/epoch - 7ms/step\n",
            "Epoch 31/100\n",
            "1/1 - 0s - loss: 0.0507 - 7ms/epoch - 7ms/step\n",
            "Epoch 32/100\n",
            "1/1 - 0s - loss: 0.0499 - 7ms/epoch - 7ms/step\n",
            "Epoch 33/100\n",
            "1/1 - 0s - loss: 0.0491 - 7ms/epoch - 7ms/step\n",
            "Epoch 34/100\n",
            "1/1 - 0s - loss: 0.0483 - 8ms/epoch - 8ms/step\n",
            "Epoch 35/100\n",
            "1/1 - 0s - loss: 0.0475 - 7ms/epoch - 7ms/step\n",
            "Epoch 36/100\n",
            "1/1 - 0s - loss: 0.0467 - 7ms/epoch - 7ms/step\n",
            "Epoch 37/100\n",
            "1/1 - 0s - loss: 0.0460 - 7ms/epoch - 7ms/step\n",
            "Epoch 38/100\n",
            "1/1 - 0s - loss: 0.0452 - 7ms/epoch - 7ms/step\n",
            "Epoch 39/100\n",
            "1/1 - 0s - loss: 0.0444 - 7ms/epoch - 7ms/step\n",
            "Epoch 40/100\n",
            "1/1 - 0s - loss: 0.0437 - 7ms/epoch - 7ms/step\n",
            "Epoch 41/100\n",
            "1/1 - 0s - loss: 0.0429 - 6ms/epoch - 6ms/step\n",
            "Epoch 42/100\n",
            "1/1 - 0s - loss: 0.0422 - 7ms/epoch - 7ms/step\n",
            "Epoch 43/100\n",
            "1/1 - 0s - loss: 0.0414 - 6ms/epoch - 6ms/step\n",
            "Epoch 44/100\n",
            "1/1 - 0s - loss: 0.0407 - 6ms/epoch - 6ms/step\n",
            "Epoch 45/100\n",
            "1/1 - 0s - loss: 0.0400 - 7ms/epoch - 7ms/step\n",
            "Epoch 46/100\n",
            "1/1 - 0s - loss: 0.0393 - 7ms/epoch - 7ms/step\n",
            "Epoch 47/100\n",
            "1/1 - 0s - loss: 0.0386 - 7ms/epoch - 7ms/step\n",
            "Epoch 48/100\n",
            "1/1 - 0s - loss: 0.0379 - 7ms/epoch - 7ms/step\n",
            "Epoch 49/100\n",
            "1/1 - 0s - loss: 0.0372 - 6ms/epoch - 6ms/step\n",
            "Epoch 50/100\n",
            "1/1 - 0s - loss: 0.0365 - 7ms/epoch - 7ms/step\n",
            "Epoch 51/100\n",
            "1/1 - 0s - loss: 0.0359 - 6ms/epoch - 6ms/step\n",
            "Epoch 52/100\n",
            "1/1 - 0s - loss: 0.0352 - 7ms/epoch - 7ms/step\n",
            "Epoch 53/100\n",
            "1/1 - 0s - loss: 0.0345 - 6ms/epoch - 6ms/step\n",
            "Epoch 54/100\n",
            "1/1 - 0s - loss: 0.0339 - 7ms/epoch - 7ms/step\n",
            "Epoch 55/100\n",
            "1/1 - 0s - loss: 0.0332 - 7ms/epoch - 7ms/step\n",
            "Epoch 56/100\n",
            "1/1 - 0s - loss: 0.0326 - 7ms/epoch - 7ms/step\n",
            "Epoch 57/100\n",
            "1/1 - 0s - loss: 0.0320 - 7ms/epoch - 7ms/step\n",
            "Epoch 58/100\n",
            "1/1 - 0s - loss: 0.0313 - 8ms/epoch - 8ms/step\n",
            "Epoch 59/100\n",
            "1/1 - 0s - loss: 0.0307 - 6ms/epoch - 6ms/step\n",
            "Epoch 60/100\n",
            "1/1 - 0s - loss: 0.0301 - 6ms/epoch - 6ms/step\n",
            "Epoch 61/100\n",
            "1/1 - 0s - loss: 0.0295 - 7ms/epoch - 7ms/step\n",
            "Epoch 62/100\n",
            "1/1 - 0s - loss: 0.0289 - 7ms/epoch - 7ms/step\n",
            "Epoch 63/100\n",
            "1/1 - 0s - loss: 0.0283 - 8ms/epoch - 8ms/step\n",
            "Epoch 64/100\n",
            "1/1 - 0s - loss: 0.0278 - 7ms/epoch - 7ms/step\n",
            "Epoch 65/100\n",
            "1/1 - 0s - loss: 0.0272 - 7ms/epoch - 7ms/step\n",
            "Epoch 66/100\n",
            "1/1 - 0s - loss: 0.0266 - 7ms/epoch - 7ms/step\n",
            "Epoch 67/100\n",
            "1/1 - 0s - loss: 0.0261 - 7ms/epoch - 7ms/step\n",
            "Epoch 68/100\n",
            "1/1 - 0s - loss: 0.0255 - 7ms/epoch - 7ms/step\n",
            "Epoch 69/100\n",
            "1/1 - 0s - loss: 0.0250 - 7ms/epoch - 7ms/step\n",
            "Epoch 70/100\n",
            "1/1 - 0s - loss: 0.0244 - 7ms/epoch - 7ms/step\n",
            "Epoch 71/100\n",
            "1/1 - 0s - loss: 0.0239 - 7ms/epoch - 7ms/step\n",
            "Epoch 72/100\n",
            "1/1 - 0s - loss: 0.0234 - 7ms/epoch - 7ms/step\n",
            "Epoch 73/100\n",
            "1/1 - 0s - loss: 0.0229 - 7ms/epoch - 7ms/step\n",
            "Epoch 74/100\n",
            "1/1 - 0s - loss: 0.0224 - 7ms/epoch - 7ms/step\n",
            "Epoch 75/100\n",
            "1/1 - 0s - loss: 0.0219 - 6ms/epoch - 6ms/step\n",
            "Epoch 76/100\n",
            "1/1 - 0s - loss: 0.0214 - 7ms/epoch - 7ms/step\n",
            "Epoch 77/100\n",
            "1/1 - 0s - loss: 0.0209 - 7ms/epoch - 7ms/step\n",
            "Epoch 78/100\n",
            "1/1 - 0s - loss: 0.0204 - 7ms/epoch - 7ms/step\n",
            "Epoch 79/100\n",
            "1/1 - 0s - loss: 0.0200 - 7ms/epoch - 7ms/step\n",
            "Epoch 80/100\n",
            "1/1 - 0s - loss: 0.0195 - 7ms/epoch - 7ms/step\n",
            "Epoch 81/100\n",
            "1/1 - 0s - loss: 0.0190 - 7ms/epoch - 7ms/step\n",
            "Epoch 82/100\n",
            "1/1 - 0s - loss: 0.0186 - 8ms/epoch - 8ms/step\n",
            "Epoch 83/100\n",
            "1/1 - 0s - loss: 0.0182 - 9ms/epoch - 9ms/step\n",
            "Epoch 84/100\n",
            "1/1 - 0s - loss: 0.0177 - 9ms/epoch - 9ms/step\n",
            "Epoch 85/100\n",
            "1/1 - 0s - loss: 0.0173 - 6ms/epoch - 6ms/step\n",
            "Epoch 86/100\n",
            "1/1 - 0s - loss: 0.0169 - 7ms/epoch - 7ms/step\n",
            "Epoch 87/100\n",
            "1/1 - 0s - loss: 0.0165 - 6ms/epoch - 6ms/step\n",
            "Epoch 88/100\n",
            "1/1 - 0s - loss: 0.0161 - 7ms/epoch - 7ms/step\n",
            "Epoch 89/100\n",
            "1/1 - 0s - loss: 0.0157 - 7ms/epoch - 7ms/step\n",
            "Epoch 90/100\n",
            "1/1 - 0s - loss: 0.0153 - 6ms/epoch - 6ms/step\n",
            "Epoch 91/100\n",
            "1/1 - 0s - loss: 0.0149 - 10ms/epoch - 10ms/step\n",
            "Epoch 92/100\n",
            "1/1 - 0s - loss: 0.0145 - 7ms/epoch - 7ms/step\n",
            "Epoch 93/100\n",
            "1/1 - 0s - loss: 0.0141 - 7ms/epoch - 7ms/step\n",
            "Epoch 94/100\n",
            "1/1 - 0s - loss: 0.0138 - 9ms/epoch - 9ms/step\n",
            "Epoch 95/100\n",
            "1/1 - 0s - loss: 0.0134 - 7ms/epoch - 7ms/step\n",
            "Epoch 96/100\n",
            "1/1 - 0s - loss: 0.0130 - 7ms/epoch - 7ms/step\n",
            "Epoch 97/100\n",
            "1/1 - 0s - loss: 0.0127 - 6ms/epoch - 6ms/step\n",
            "Epoch 98/100\n",
            "1/1 - 0s - loss: 0.0124 - 6ms/epoch - 6ms/step\n",
            "Epoch 99/100\n",
            "1/1 - 0s - loss: 0.0120 - 7ms/epoch - 7ms/step\n",
            "Epoch 100/100\n",
            "1/1 - 0s - loss: 0.0117 - 7ms/epoch - 7ms/step\n"
          ]
        },
        {
          "output_type": "execute_result",
          "data": {
            "text/plain": [
              "<keras.src.callbacks.History at 0x7e73b9101c30>"
            ]
          },
          "metadata": {},
          "execution_count": 9
        }
      ]
    },
    {
      "cell_type": "code",
      "source": [
        "# make predictions\n",
        "trainPredict = model.predict(trainX)\n",
        "testPredict = model.predict(testX)\n",
        "# invert predictions\n",
        "trainPredict = scaler.inverse_transform(trainPredict)\n",
        "trainY = scaler.inverse_transform([trainY])\n",
        "testPredict = scaler.inverse_transform(testPredict)\n",
        "testY = scaler.inverse_transform([testY])\n",
        "# calculate root mean squared error\n",
        "trainScore = np.sqrt(mean_squared_error(trainY[0], trainPredict[:,0]))\n",
        "print('Train Score: %.2f RMSE' % (trainScore))\n",
        "testScore = np.sqrt(mean_squared_error(testY[0], testPredict[:,0]))\n",
        "print('Test Score: %.2f RMSE' % (testScore))"
      ],
      "metadata": {
        "colab": {
          "base_uri": "https://localhost:8080/"
        },
        "id": "bZGBJw77PbsT",
        "outputId": "23e0764e-9473-4aa1-ebaa-bbcdad972054"
      },
      "execution_count": null,
      "outputs": [
        {
          "output_type": "stream",
          "name": "stdout",
          "text": [
            "1/1 [==============================] - 1s 680ms/step\n",
            "1/1 [==============================] - 0s 24ms/step\n",
            "Train Score: 55.25 RMSE\n",
            "Test Score: 145.68 RMSE\n"
          ]
        }
      ]
    },
    {
      "cell_type": "code",
      "source": [
        "# shift train predictions for plotting\n",
        "trainPredictPlot = np.empty_like(dataset)\n",
        "trainPredictPlot[:, :] = np.nan\n",
        "trainPredictPlot[look_back:len(trainPredict)+look_back, :] = trainPredict\n",
        "# shift test predictions for plotting\n",
        "testPredictPlot = np.empty_like(dataset)\n",
        "testPredictPlot[:, :] = np.nan\n",
        "testPredictPlot[len(trainPredict)+(look_back*2)+1:len(dataset)-1, :] = testPredict\n",
        "# plot baseline and predictions\n",
        "plt.plot(scaler.inverse_transform(dataset))\n",
        "plt.plot(trainPredictPlot)\n",
        "plt.plot(testPredictPlot)\n",
        "plt.show()"
      ],
      "metadata": {
        "colab": {
          "base_uri": "https://localhost:8080/",
          "height": 430
        },
        "id": "3Rp1iQGGPbvK",
        "outputId": "b098b670-35ba-4a7f-cbf3-09e89e2f6d8b"
      },
      "execution_count": null,
      "outputs": [
        {
          "output_type": "display_data",
          "data": {
            "text/plain": [
              "<Figure size 640x480 with 1 Axes>"
            ],
            "image/png": "[encoded data removed]"
          },
          "metadata": {}
        }
      ]
    }
  ]
}